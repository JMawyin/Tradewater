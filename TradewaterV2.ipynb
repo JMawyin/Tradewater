{
  "nbformat": 4,
  "nbformat_minor": 0,
  "metadata": {
    "colab": {
      "name": "TradewaterV2.ipynb",
      "provenance": [],
      "toc_visible": true,
      "authorship_tag": "ABX9TyMPEOLOtXGawexik0EQdABo",
      "include_colab_link": true
    },
    "kernelspec": {
      "name": "python3",
      "display_name": "Python 3"
    },
    "language_info": {
      "name": "python"
    }
  },
  "cells": [
    {
      "cell_type": "markdown",
      "metadata": {
        "id": "view-in-github",
        "colab_type": "text"
      },
      "source": [
        "<a href=\"https://colab.research.google.com/github/JMawyin/Tradewater/blob/main/TradewaterV2.ipynb\" target=\"_parent\"><img src=\"https://colab.research.google.com/assets/colab-badge.svg\" alt=\"Open In Colab\"/></a>"
      ]
    },
    {
      "cell_type": "code",
      "metadata": {
        "colab": {
          "base_uri": "https://localhost:8080/"
        },
        "id": "8LRzZETlX6tK",
        "outputId": "4d50849f-b06c-4952-c607-717490dcfd16"
      },
      "source": [
        "from google.colab import drive\n",
        "drive.mount('/gdrive')\n",
        "drive.mount('/content/drive')"
      ],
      "execution_count": 1,
      "outputs": [
        {
          "output_type": "stream",
          "name": "stdout",
          "text": [
            "Mounted at /gdrive\n",
            "Mounted at /content/drive\n"
          ]
        }
      ]
    },
    {
      "cell_type": "code",
      "metadata": {
        "id": "26eoW-dsYTyL"
      },
      "source": [
        "\n",
        "\n",
        "import pandas as pd\n"
      ],
      "execution_count": 2,
      "outputs": []
    },
    {
      "cell_type": "markdown",
      "metadata": {
        "id": "Q95tu5Fkx8Bb"
      },
      "source": [
        "## Q13.\n",
        "\n",
        "13. In a scripting language of your choice, write a program that runs the SQL code you wrote for question 9 and writes the output into a comma separated file. Please provide the output file and your program."
      ]
    },
    {
      "cell_type": "code",
      "metadata": {
        "id": "GTwtZ2BV3T5a"
      },
      "source": [
        "Q13_save_pth = '/content/drive/MyDrive/Datasets/Tradewater/'"
      ],
      "execution_count": 3,
      "outputs": []
    },
    {
      "cell_type": "code",
      "metadata": {
        "colab": {
          "base_uri": "https://localhost:8080/",
          "height": 111
        },
        "id": "ZOdd1oQv0V0m",
        "outputId": "9cf78ee7-7b91-4a46-f0c3-14fbaf6c13f2"
      },
      "source": [
        "cons_df = pd.read_csv('/content/drive/MyDrive/Datasets/Tradewater/cons.csv')\n",
        "cons_df.head(2)"
      ],
      "execution_count": 4,
      "outputs": [
        {
          "output_type": "execute_result",
          "data": {
            "text/html": [
              "<div>\n",
              "<style scoped>\n",
              "    .dataframe tbody tr th:only-of-type {\n",
              "        vertical-align: middle;\n",
              "    }\n",
              "\n",
              "    .dataframe tbody tr th {\n",
              "        vertical-align: top;\n",
              "    }\n",
              "\n",
              "    .dataframe thead th {\n",
              "        text-align: right;\n",
              "    }\n",
              "</style>\n",
              "<table border=\"1\" class=\"dataframe\">\n",
              "  <thead>\n",
              "    <tr style=\"text-align: right;\">\n",
              "      <th></th>\n",
              "      <th>cons_id</th>\n",
              "      <th>gender</th>\n",
              "      <th>age_id</th>\n",
              "    </tr>\n",
              "  </thead>\n",
              "  <tbody>\n",
              "    <tr>\n",
              "      <th>0</th>\n",
              "      <td>1</td>\n",
              "      <td>M</td>\n",
              "      <td>1</td>\n",
              "    </tr>\n",
              "    <tr>\n",
              "      <th>1</th>\n",
              "      <td>2</td>\n",
              "      <td>F</td>\n",
              "      <td>0</td>\n",
              "    </tr>\n",
              "  </tbody>\n",
              "</table>\n",
              "</div>"
            ],
            "text/plain": [
              "   cons_id gender  age_id\n",
              "0        1      M       1\n",
              "1        2      F       0"
            ]
          },
          "metadata": {},
          "execution_count": 4
        }
      ]
    },
    {
      "cell_type": "code",
      "metadata": {
        "colab": {
          "base_uri": "https://localhost:8080/",
          "height": 111
        },
        "id": "X-jHro860edA",
        "outputId": "40f0e0c2-fdb7-4524-ea25-0d2cce5a1a06"
      },
      "source": [
        "cons_action_df = pd.read_csv('/content/drive/MyDrive/Datasets/Tradewater/cons_action.csv')\n",
        "cons_action_df.head(2)"
      ],
      "execution_count": 5,
      "outputs": [
        {
          "output_type": "execute_result",
          "data": {
            "text/html": [
              "<div>\n",
              "<style scoped>\n",
              "    .dataframe tbody tr th:only-of-type {\n",
              "        vertical-align: middle;\n",
              "    }\n",
              "\n",
              "    .dataframe tbody tr th {\n",
              "        vertical-align: top;\n",
              "    }\n",
              "\n",
              "    .dataframe thead th {\n",
              "        text-align: right;\n",
              "    }\n",
              "</style>\n",
              "<table border=\"1\" class=\"dataframe\">\n",
              "  <thead>\n",
              "    <tr style=\"text-align: right;\">\n",
              "      <th></th>\n",
              "      <th>cons_action_id</th>\n",
              "      <th>cons_id</th>\n",
              "    </tr>\n",
              "  </thead>\n",
              "  <tbody>\n",
              "    <tr>\n",
              "      <th>0</th>\n",
              "      <td>1</td>\n",
              "      <td>363443</td>\n",
              "    </tr>\n",
              "    <tr>\n",
              "      <th>1</th>\n",
              "      <td>2</td>\n",
              "      <td>181414</td>\n",
              "    </tr>\n",
              "  </tbody>\n",
              "</table>\n",
              "</div>"
            ],
            "text/plain": [
              "   cons_action_id  cons_id\n",
              "0               1   363443\n",
              "1               2   181414"
            ]
          },
          "metadata": {},
          "execution_count": 5
        }
      ]
    },
    {
      "cell_type": "code",
      "metadata": {
        "colab": {
          "base_uri": "https://localhost:8080/",
          "height": 111
        },
        "id": "4KlFGfvN0lF3",
        "outputId": "929783b6-8c5b-4753-cfb4-7a58767cc504"
      },
      "source": [
        "mailing_df = pd.read_csv('/content/drive/MyDrive/Datasets/Tradewater/mailing.csv')\n",
        "mailing_df.head(2)"
      ],
      "execution_count": 6,
      "outputs": [
        {
          "output_type": "execute_result",
          "data": {
            "text/html": [
              "<div>\n",
              "<style scoped>\n",
              "    .dataframe tbody tr th:only-of-type {\n",
              "        vertical-align: middle;\n",
              "    }\n",
              "\n",
              "    .dataframe tbody tr th {\n",
              "        vertical-align: top;\n",
              "    }\n",
              "\n",
              "    .dataframe thead th {\n",
              "        text-align: right;\n",
              "    }\n",
              "</style>\n",
              "<table border=\"1\" class=\"dataframe\">\n",
              "  <thead>\n",
              "    <tr style=\"text-align: right;\">\n",
              "      <th></th>\n",
              "      <th>mailing_id</th>\n",
              "      <th>mailing_name</th>\n",
              "    </tr>\n",
              "  </thead>\n",
              "  <tbody>\n",
              "    <tr>\n",
              "      <th>0</th>\n",
              "      <td>1</td>\n",
              "      <td>Mailing A</td>\n",
              "    </tr>\n",
              "    <tr>\n",
              "      <th>1</th>\n",
              "      <td>2</td>\n",
              "      <td>Mailing B</td>\n",
              "    </tr>\n",
              "  </tbody>\n",
              "</table>\n",
              "</div>"
            ],
            "text/plain": [
              "   mailing_id mailing_name\n",
              "0           1    Mailing A\n",
              "1           2    Mailing B"
            ]
          },
          "metadata": {},
          "execution_count": 6
        }
      ]
    },
    {
      "cell_type": "code",
      "metadata": {
        "colab": {
          "base_uri": "https://localhost:8080/",
          "height": 111
        },
        "id": "mjLO7hT20tWb",
        "outputId": "52272186-44e8-475c-8869-2a0be764d7fe"
      },
      "source": [
        "mailing_recipient_df = pd.read_csv('/content/drive/MyDrive/Datasets/Tradewater/mailing_recipient.csv')\n",
        "mailing_recipient_df.head(2)"
      ],
      "execution_count": 7,
      "outputs": [
        {
          "output_type": "execute_result",
          "data": {
            "text/html": [
              "<div>\n",
              "<style scoped>\n",
              "    .dataframe tbody tr th:only-of-type {\n",
              "        vertical-align: middle;\n",
              "    }\n",
              "\n",
              "    .dataframe tbody tr th {\n",
              "        vertical-align: top;\n",
              "    }\n",
              "\n",
              "    .dataframe thead th {\n",
              "        text-align: right;\n",
              "    }\n",
              "</style>\n",
              "<table border=\"1\" class=\"dataframe\">\n",
              "  <thead>\n",
              "    <tr style=\"text-align: right;\">\n",
              "      <th></th>\n",
              "      <th>mailing_recipient_id</th>\n",
              "      <th>mailing_id</th>\n",
              "      <th>cons_id</th>\n",
              "    </tr>\n",
              "  </thead>\n",
              "  <tbody>\n",
              "    <tr>\n",
              "      <th>0</th>\n",
              "      <td>1</td>\n",
              "      <td>1</td>\n",
              "      <td>315101</td>\n",
              "    </tr>\n",
              "    <tr>\n",
              "      <th>1</th>\n",
              "      <td>2</td>\n",
              "      <td>1</td>\n",
              "      <td>284681</td>\n",
              "    </tr>\n",
              "  </tbody>\n",
              "</table>\n",
              "</div>"
            ],
            "text/plain": [
              "   mailing_recipient_id  mailing_id  cons_id\n",
              "0                     1           1   315101\n",
              "1                     2           1   284681"
            ]
          },
          "metadata": {},
          "execution_count": 7
        }
      ]
    },
    {
      "cell_type": "code",
      "metadata": {
        "colab": {
          "base_uri": "https://localhost:8080/",
          "height": 111
        },
        "id": "__zq0Z4d08Eu",
        "outputId": "206b567c-75a9-4c13-9ce6-f58fc190b113"
      },
      "source": [
        "mailing_recipient_click_df = pd.read_csv('/content/drive/MyDrive/Datasets/Tradewater/mailing_recipient_click.csv')\n",
        "mailing_recipient_click_df.head(2)"
      ],
      "execution_count": 8,
      "outputs": [
        {
          "output_type": "execute_result",
          "data": {
            "text/html": [
              "<div>\n",
              "<style scoped>\n",
              "    .dataframe tbody tr th:only-of-type {\n",
              "        vertical-align: middle;\n",
              "    }\n",
              "\n",
              "    .dataframe tbody tr th {\n",
              "        vertical-align: top;\n",
              "    }\n",
              "\n",
              "    .dataframe thead th {\n",
              "        text-align: right;\n",
              "    }\n",
              "</style>\n",
              "<table border=\"1\" class=\"dataframe\">\n",
              "  <thead>\n",
              "    <tr style=\"text-align: right;\">\n",
              "      <th></th>\n",
              "      <th>mailing_recipient_click_id</th>\n",
              "      <th>mailing_recipient_click_type_id</th>\n",
              "      <th>mailing_recipient_id</th>\n",
              "    </tr>\n",
              "  </thead>\n",
              "  <tbody>\n",
              "    <tr>\n",
              "      <th>0</th>\n",
              "      <td>1</td>\n",
              "      <td>2</td>\n",
              "      <td>439669</td>\n",
              "    </tr>\n",
              "    <tr>\n",
              "      <th>1</th>\n",
              "      <td>2</td>\n",
              "      <td>2</td>\n",
              "      <td>49854</td>\n",
              "    </tr>\n",
              "  </tbody>\n",
              "</table>\n",
              "</div>"
            ],
            "text/plain": [
              "   mailing_recipient_click_id  ...  mailing_recipient_id\n",
              "0                           1  ...                439669\n",
              "1                           2  ...                 49854\n",
              "\n",
              "[2 rows x 3 columns]"
            ]
          },
          "metadata": {},
          "execution_count": 8
        }
      ]
    },
    {
      "cell_type": "code",
      "metadata": {
        "id": "dtZocG_DzJj2"
      },
      "source": [
        "import sqlite3\n",
        "conn = sqlite3.connect('Tradewater.db')\n",
        "c = conn.cursor()\n",
        "\n",
        "cons_df.to_sql('cons', conn, if_exists='replace', index = False)\n",
        "cons_action_df.to_sql('cons_action', conn, if_exists='replace', index = False)\n",
        "mailing_df.to_sql('mailing', conn, if_exists='replace', index = False)\n",
        "mailing_recipient_df.to_sql('mailing_recipient', conn, if_exists='replace', index = False)\n",
        "mailing_recipient_click_df.to_sql('mailing_recipient_click', conn, if_exists='replace', index = False)"
      ],
      "execution_count": 9,
      "outputs": []
    },
    {
      "cell_type": "markdown",
      "metadata": {
        "id": "rbjm-WwNyLyA"
      },
      "source": [
        "For each of the three fundraising emails, please provide a topline summary of its performance as well as the SQL code you used to generate that summary. The summary should contain the following fields:\n"
      ]
    },
    {
      "cell_type": "code",
      "metadata": {
        "id": "OkkGOLw6yUiJ"
      },
      "source": [
        ""
      ],
      "execution_count": 9,
      "outputs": []
    },
    {
      "cell_type": "markdown",
      "metadata": {
        "id": "G0kzej8SyRqJ"
      },
      "source": [
        "### Recipient count"
      ]
    },
    {
      "cell_type": "code",
      "metadata": {
        "colab": {
          "base_uri": "https://localhost:8080/",
          "height": 80
        },
        "id": "1PpDSd-72UcD",
        "outputId": "0e157411-de32-4305-8245-92f6133b8b1a"
      },
      "source": [
        "query = '''SELECT COUNT(DISTINCT mailing_recipient_id) FROM mailing_recipient;'''\n",
        "Recipient_query = c.execute(query).fetchall()\n",
        "Recipient_df = pd.DataFrame(Recipient_query, columns =['Recipient_Count'])\n",
        "  \n",
        "Recipient_df.head()"
      ],
      "execution_count": 10,
      "outputs": [
        {
          "output_type": "execute_result",
          "data": {
            "text/html": [
              "<div>\n",
              "<style scoped>\n",
              "    .dataframe tbody tr th:only-of-type {\n",
              "        vertical-align: middle;\n",
              "    }\n",
              "\n",
              "    .dataframe tbody tr th {\n",
              "        vertical-align: top;\n",
              "    }\n",
              "\n",
              "    .dataframe thead th {\n",
              "        text-align: right;\n",
              "    }\n",
              "</style>\n",
              "<table border=\"1\" class=\"dataframe\">\n",
              "  <thead>\n",
              "    <tr style=\"text-align: right;\">\n",
              "      <th></th>\n",
              "      <th>Recipient_Count</th>\n",
              "    </tr>\n",
              "  </thead>\n",
              "  <tbody>\n",
              "    <tr>\n",
              "      <th>0</th>\n",
              "      <td>500000</td>\n",
              "    </tr>\n",
              "  </tbody>\n",
              "</table>\n",
              "</div>"
            ],
            "text/plain": [
              "   Recipient_Count\n",
              "0           500000"
            ]
          },
          "metadata": {},
          "execution_count": 10
        }
      ]
    },
    {
      "cell_type": "code",
      "metadata": {
        "id": "ej0mGbe9x-wy"
      },
      "source": [
        "file_name = Q13_save_pth + 'TWQ13_Recipient_Count.csv'\n",
        "Recipient_df.to_csv (file_name, index = False, header=True)"
      ],
      "execution_count": 11,
      "outputs": []
    },
    {
      "cell_type": "markdown",
      "metadata": {
        "id": "MlbhnOzB3fHb"
      },
      "source": [
        "### Open Count"
      ]
    },
    {
      "cell_type": "code",
      "metadata": {
        "colab": {
          "base_uri": "https://localhost:8080/",
          "height": 80
        },
        "id": "I6RTGBjj3jMJ",
        "outputId": "6a150eca-f5a1-4e93-fe75-beb15f3e0e5f"
      },
      "source": [
        "query = '''SELECT mailing_recipient_click_type_id, count(mailing_recipient_click_type_id) FROM mailing_recipient_click\n",
        "WHERE mailing_recipient_click_type_id = 2'''\n",
        "OC_query = c.execute(query).fetchall()\n",
        "OC_df = pd.DataFrame(OC_query, columns = ['mailing_recipient_click_type_id', 'count(mailing_recipient_click_type_id)'])\n",
        "OC_df.head(2)"
      ],
      "execution_count": 12,
      "outputs": [
        {
          "output_type": "execute_result",
          "data": {
            "text/html": [
              "<div>\n",
              "<style scoped>\n",
              "    .dataframe tbody tr th:only-of-type {\n",
              "        vertical-align: middle;\n",
              "    }\n",
              "\n",
              "    .dataframe tbody tr th {\n",
              "        vertical-align: top;\n",
              "    }\n",
              "\n",
              "    .dataframe thead th {\n",
              "        text-align: right;\n",
              "    }\n",
              "</style>\n",
              "<table border=\"1\" class=\"dataframe\">\n",
              "  <thead>\n",
              "    <tr style=\"text-align: right;\">\n",
              "      <th></th>\n",
              "      <th>mailing_recipient_click_type_id</th>\n",
              "      <th>count(mailing_recipient_click_type_id)</th>\n",
              "    </tr>\n",
              "  </thead>\n",
              "  <tbody>\n",
              "    <tr>\n",
              "      <th>0</th>\n",
              "      <td>2</td>\n",
              "      <td>41663</td>\n",
              "    </tr>\n",
              "  </tbody>\n",
              "</table>\n",
              "</div>"
            ],
            "text/plain": [
              "   mailing_recipient_click_type_id  count(mailing_recipient_click_type_id)\n",
              "0                                2                                   41663"
            ]
          },
          "metadata": {},
          "execution_count": 12
        }
      ]
    },
    {
      "cell_type": "code",
      "metadata": {
        "id": "1YB8nilu6ee3"
      },
      "source": [
        "file_name = Q13_save_pth + 'TWQ13_OpenCount.csv'\n",
        "OC_df.to_csv (file_name, index = False, header=True)"
      ],
      "execution_count": 13,
      "outputs": []
    },
    {
      "cell_type": "markdown",
      "metadata": {
        "id": "6WvUfJsA6ktH"
      },
      "source": [
        "### Opens per Recipient"
      ]
    },
    {
      "cell_type": "code",
      "metadata": {
        "colab": {
          "base_uri": "https://localhost:8080/",
          "height": 111
        },
        "id": "5H_AfUwb6qv4",
        "outputId": "d8944b19-abd0-4cf1-b800-387e4722482c"
      },
      "source": [
        "query = '''SELECT mailing_recipient_id, count(mailing_recipient_click_type_id)  FROM mailing_recipient_click\n",
        "WHERE mailing_recipient_click_type_id = 2\n",
        "GROUP BY mailing_recipient_id\n",
        "ORDER BY 1;'''\n",
        "OpR_query = c.execute(query).fetchall()\n",
        "OpR_df = pd.DataFrame(OpR_query, columns = ['mailing_recipient_id', 'count(mailing_recipient_click_type_id)'])\n",
        "OpR_df.head(2)"
      ],
      "execution_count": 14,
      "outputs": [
        {
          "output_type": "execute_result",
          "data": {
            "text/html": [
              "<div>\n",
              "<style scoped>\n",
              "    .dataframe tbody tr th:only-of-type {\n",
              "        vertical-align: middle;\n",
              "    }\n",
              "\n",
              "    .dataframe tbody tr th {\n",
              "        vertical-align: top;\n",
              "    }\n",
              "\n",
              "    .dataframe thead th {\n",
              "        text-align: right;\n",
              "    }\n",
              "</style>\n",
              "<table border=\"1\" class=\"dataframe\">\n",
              "  <thead>\n",
              "    <tr style=\"text-align: right;\">\n",
              "      <th></th>\n",
              "      <th>mailing_recipient_id</th>\n",
              "      <th>count(mailing_recipient_click_type_id)</th>\n",
              "    </tr>\n",
              "  </thead>\n",
              "  <tbody>\n",
              "    <tr>\n",
              "      <th>0</th>\n",
              "      <td>3</td>\n",
              "      <td>1</td>\n",
              "    </tr>\n",
              "    <tr>\n",
              "      <th>1</th>\n",
              "      <td>16</td>\n",
              "      <td>1</td>\n",
              "    </tr>\n",
              "  </tbody>\n",
              "</table>\n",
              "</div>"
            ],
            "text/plain": [
              "   mailing_recipient_id  count(mailing_recipient_click_type_id)\n",
              "0                     3                                       1\n",
              "1                    16                                       1"
            ]
          },
          "metadata": {},
          "execution_count": 14
        }
      ]
    },
    {
      "cell_type": "code",
      "metadata": {
        "id": "eHJS3UBF7gt9"
      },
      "source": [
        "file_name = Q13_save_pth + 'TWQ13_OpR.csv'\n",
        "OpR_df.to_csv (file_name, index = False, header=True)"
      ],
      "execution_count": 15,
      "outputs": []
    },
    {
      "cell_type": "markdown",
      "metadata": {
        "id": "sjtxXHkT70Bv"
      },
      "source": [
        "### Click count"
      ]
    },
    {
      "cell_type": "code",
      "metadata": {
        "colab": {
          "base_uri": "https://localhost:8080/",
          "height": 80
        },
        "id": "qU4Ocqh371XE",
        "outputId": "67b0967a-c1d1-4841-d730-2f4c9fec528d"
      },
      "source": [
        "query = '''SELECT mailing_recipient_click_type_id, count(mailing_recipient_click_type_id) FROM mailing_recipient_click\n",
        "WHERE mailing_recipient_click_type_id = 1;'''\n",
        "CC_query = c.execute(query).fetchall()\n",
        "CC_df = pd.DataFrame(CC_query, columns = ['mailing_recipient_click_type_id', 'count(mailing_recipient_click_type_id)'])\n",
        "CC_df.head(2)"
      ],
      "execution_count": 16,
      "outputs": [
        {
          "output_type": "execute_result",
          "data": {
            "text/html": [
              "<div>\n",
              "<style scoped>\n",
              "    .dataframe tbody tr th:only-of-type {\n",
              "        vertical-align: middle;\n",
              "    }\n",
              "\n",
              "    .dataframe tbody tr th {\n",
              "        vertical-align: top;\n",
              "    }\n",
              "\n",
              "    .dataframe thead th {\n",
              "        text-align: right;\n",
              "    }\n",
              "</style>\n",
              "<table border=\"1\" class=\"dataframe\">\n",
              "  <thead>\n",
              "    <tr style=\"text-align: right;\">\n",
              "      <th></th>\n",
              "      <th>mailing_recipient_click_type_id</th>\n",
              "      <th>count(mailing_recipient_click_type_id)</th>\n",
              "    </tr>\n",
              "  </thead>\n",
              "  <tbody>\n",
              "    <tr>\n",
              "      <th>0</th>\n",
              "      <td>1</td>\n",
              "      <td>2158</td>\n",
              "    </tr>\n",
              "  </tbody>\n",
              "</table>\n",
              "</div>"
            ],
            "text/plain": [
              "   mailing_recipient_click_type_id  count(mailing_recipient_click_type_id)\n",
              "0                                1                                    2158"
            ]
          },
          "metadata": {},
          "execution_count": 16
        }
      ]
    },
    {
      "cell_type": "code",
      "metadata": {
        "id": "nOKa9RJV8nYg"
      },
      "source": [
        "file_name = Q13_save_pth + 'TWQ13_CC.csv'\n",
        "CC_df.to_csv (file_name, index = False, header=True)"
      ],
      "execution_count": 17,
      "outputs": []
    },
    {
      "cell_type": "markdown",
      "metadata": {
        "id": "N4Upavs38xuS"
      },
      "source": [
        "### Clicks per recipient"
      ]
    },
    {
      "cell_type": "code",
      "metadata": {
        "colab": {
          "base_uri": "https://localhost:8080/",
          "height": 111
        },
        "id": "8JuQB1Nu8ziC",
        "outputId": "3ee0cae6-6813-42cd-f2da-8266c603bf27"
      },
      "source": [
        "query = '''SELECT mailing_recipient_id, count(mailing_recipient_click_type_id)  FROM mailing_recipient_click\n",
        "WHERE mailing_recipient_click_type_id = 1\n",
        "GROUP BY mailing_recipient_id\n",
        "ORDER BY 1;'''\n",
        "CpR_query = c.execute(query).fetchall()\n",
        "CpR_df = pd.DataFrame(CpR_query, columns = ['mailing_recipient_id', 'count(mailing_recipient_click_type_id)'])\n",
        "CpR_df.head(2)"
      ],
      "execution_count": 18,
      "outputs": [
        {
          "output_type": "execute_result",
          "data": {
            "text/html": [
              "<div>\n",
              "<style scoped>\n",
              "    .dataframe tbody tr th:only-of-type {\n",
              "        vertical-align: middle;\n",
              "    }\n",
              "\n",
              "    .dataframe tbody tr th {\n",
              "        vertical-align: top;\n",
              "    }\n",
              "\n",
              "    .dataframe thead th {\n",
              "        text-align: right;\n",
              "    }\n",
              "</style>\n",
              "<table border=\"1\" class=\"dataframe\">\n",
              "  <thead>\n",
              "    <tr style=\"text-align: right;\">\n",
              "      <th></th>\n",
              "      <th>mailing_recipient_id</th>\n",
              "      <th>count(mailing_recipient_click_type_id)</th>\n",
              "    </tr>\n",
              "  </thead>\n",
              "  <tbody>\n",
              "    <tr>\n",
              "      <th>0</th>\n",
              "      <td>3</td>\n",
              "      <td>1</td>\n",
              "    </tr>\n",
              "    <tr>\n",
              "      <th>1</th>\n",
              "      <td>591</td>\n",
              "      <td>1</td>\n",
              "    </tr>\n",
              "  </tbody>\n",
              "</table>\n",
              "</div>"
            ],
            "text/plain": [
              "   mailing_recipient_id  count(mailing_recipient_click_type_id)\n",
              "0                     3                                       1\n",
              "1                   591                                       1"
            ]
          },
          "metadata": {},
          "execution_count": 18
        }
      ]
    },
    {
      "cell_type": "code",
      "metadata": {
        "id": "x2dwkLg99ZtG"
      },
      "source": [
        "file_name = Q13_save_pth + 'TWQ13_CpR.csv'\n",
        "CpR_df.to_csv (file_name, index = False, header=True)"
      ],
      "execution_count": 19,
      "outputs": []
    },
    {
      "cell_type": "markdown",
      "metadata": {
        "id": "08y6xQHz9hXI"
      },
      "source": [
        "### Number of Actions"
      ]
    },
    {
      "cell_type": "code",
      "metadata": {
        "colab": {
          "base_uri": "https://localhost:8080/",
          "height": 80
        },
        "id": "wD_ehVSN9ihe",
        "outputId": "fc93fcbf-7db5-4b78-bd58-d2d1aca08d9b"
      },
      "source": [
        "query = '''SELECT COUNT(DISTINCT cons_action_id) FROM cons_action;'''\n",
        "NoA_query = c.execute(query).fetchall()\n",
        "NoA_df = pd.DataFrame(NoA_query, columns = ['COUNT(DISTINCT cons_action_id)'])\n",
        "NoA_df.head(2)"
      ],
      "execution_count": 20,
      "outputs": [
        {
          "output_type": "execute_result",
          "data": {
            "text/html": [
              "<div>\n",
              "<style scoped>\n",
              "    .dataframe tbody tr th:only-of-type {\n",
              "        vertical-align: middle;\n",
              "    }\n",
              "\n",
              "    .dataframe tbody tr th {\n",
              "        vertical-align: top;\n",
              "    }\n",
              "\n",
              "    .dataframe thead th {\n",
              "        text-align: right;\n",
              "    }\n",
              "</style>\n",
              "<table border=\"1\" class=\"dataframe\">\n",
              "  <thead>\n",
              "    <tr style=\"text-align: right;\">\n",
              "      <th></th>\n",
              "      <th>COUNT(DISTINCT cons_action_id)</th>\n",
              "    </tr>\n",
              "  </thead>\n",
              "  <tbody>\n",
              "    <tr>\n",
              "      <th>0</th>\n",
              "      <td>634</td>\n",
              "    </tr>\n",
              "  </tbody>\n",
              "</table>\n",
              "</div>"
            ],
            "text/plain": [
              "   COUNT(DISTINCT cons_action_id)\n",
              "0                             634"
            ]
          },
          "metadata": {},
          "execution_count": 20
        }
      ]
    },
    {
      "cell_type": "code",
      "metadata": {
        "id": "J5mCfDwF-Mrj"
      },
      "source": [
        "file_name = Q13_save_pth + 'TWQ13_NoA.csv'\n",
        "NoA_df.to_csv (file_name, index = False, header=True)"
      ],
      "execution_count": 21,
      "outputs": []
    },
    {
      "cell_type": "markdown",
      "metadata": {
        "id": "yeEcCcMW-ctW"
      },
      "source": [
        "### Actions Per Recipient"
      ]
    },
    {
      "cell_type": "code",
      "metadata": {
        "colab": {
          "base_uri": "https://localhost:8080/",
          "height": 111
        },
        "id": "zIQYRZ_p-eBA",
        "outputId": "5229ba5d-3597-4058-8952-8d4731ac4c00"
      },
      "source": [
        "query = '''SELECT cons_id, COUNT(cons_action_id) FROM cons_action\n",
        "GROUP BY cons_id\n",
        "ORDER BY 2 DESC;'''\n",
        "ApR_query = c.execute(query).fetchall()\n",
        "ApR_df = pd.DataFrame(ApR_query, columns = ['cons_id', 'COUNT(cons_action_id)'])\n",
        "ApR_df.head(2)"
      ],
      "execution_count": 22,
      "outputs": [
        {
          "output_type": "execute_result",
          "data": {
            "text/html": [
              "<div>\n",
              "<style scoped>\n",
              "    .dataframe tbody tr th:only-of-type {\n",
              "        vertical-align: middle;\n",
              "    }\n",
              "\n",
              "    .dataframe tbody tr th {\n",
              "        vertical-align: top;\n",
              "    }\n",
              "\n",
              "    .dataframe thead th {\n",
              "        text-align: right;\n",
              "    }\n",
              "</style>\n",
              "<table border=\"1\" class=\"dataframe\">\n",
              "  <thead>\n",
              "    <tr style=\"text-align: right;\">\n",
              "      <th></th>\n",
              "      <th>cons_id</th>\n",
              "      <th>COUNT(cons_action_id)</th>\n",
              "    </tr>\n",
              "  </thead>\n",
              "  <tbody>\n",
              "    <tr>\n",
              "      <th>0</th>\n",
              "      <td>787</td>\n",
              "      <td>1</td>\n",
              "    </tr>\n",
              "    <tr>\n",
              "      <th>1</th>\n",
              "      <td>2930</td>\n",
              "      <td>1</td>\n",
              "    </tr>\n",
              "  </tbody>\n",
              "</table>\n",
              "</div>"
            ],
            "text/plain": [
              "   cons_id  COUNT(cons_action_id)\n",
              "0      787                      1\n",
              "1     2930                      1"
            ]
          },
          "metadata": {},
          "execution_count": 22
        }
      ]
    },
    {
      "cell_type": "code",
      "metadata": {
        "id": "rmlJiSA8-120"
      },
      "source": [
        "file_name = Q13_save_pth + 'TWQ13_ApR.csv'\n",
        "ApR_df.to_csv (file_name, index = False, header=True)"
      ],
      "execution_count": 23,
      "outputs": []
    },
    {
      "cell_type": "markdown",
      "metadata": {
        "id": "riGEjodrJcc7"
      },
      "source": [
        "## Q14. \n",
        "\n",
        "Github, the software version control website maintains an API with which developers can interact with their services (https://docs.github.com/en/rest). Use the Github API to create a list of all repositories associated with an account of your choosing (e.g. Mozilla - https://github.com/mozilla). Please export the ID, Name, Description and URL fields for each repository into a human-readable CSV file. Please provide all code used (excluding any private or authenticating information from your own account) as well as the final CSV file. Please select an account with at least three repositories for export. You may use the language or toolset you are most familiar with."
      ]
    },
    {
      "cell_type": "code",
      "metadata": {
        "colab": {
          "base_uri": "https://localhost:8080/",
          "height": 376
        },
        "id": "kD4POaYTtmgx",
        "outputId": "839a7f96-11c3-4fd0-8e4c-ad43d314c98f"
      },
      "source": [
        "import requests\n",
        "import pandas as pd\n",
        "repo_info_df = pd.DataFrame(columns = ['Project_Number', 'Project_Name', 'Project_Description', 'Project URL'])\n",
        "username = input(\"Enter the github username:\")\n",
        "request = requests.get('https://api.github.com/users/'+username+'/repos')\n",
        "json = request.json()\n",
        "for i in range(0,len(json)):\n",
        "  repo_info_df = repo_info_df.append({'Project_Number' : i+1, 'Project_Name' : json[i]['name'], 'Project_Description' : json[i]['description'], 'Project URL': json[i]['svn_url']},ignore_index = True)\n",
        "repo_info_df.head(10)"
      ],
      "execution_count": 24,
      "outputs": [
        {
          "name": "stdout",
          "output_type": "stream",
          "text": [
            "Enter the github username:mozilla\n"
          ]
        },
        {
          "output_type": "execute_result",
          "data": {
            "text/html": [
              "<div>\n",
              "<style scoped>\n",
              "    .dataframe tbody tr th:only-of-type {\n",
              "        vertical-align: middle;\n",
              "    }\n",
              "\n",
              "    .dataframe tbody tr th {\n",
              "        vertical-align: top;\n",
              "    }\n",
              "\n",
              "    .dataframe thead th {\n",
              "        text-align: right;\n",
              "    }\n",
              "</style>\n",
              "<table border=\"1\" class=\"dataframe\">\n",
              "  <thead>\n",
              "    <tr style=\"text-align: right;\">\n",
              "      <th></th>\n",
              "      <th>Project_Number</th>\n",
              "      <th>Project_Name</th>\n",
              "      <th>Project_Description</th>\n",
              "      <th>Project URL</th>\n",
              "    </tr>\n",
              "  </thead>\n",
              "  <tbody>\n",
              "    <tr>\n",
              "      <th>0</th>\n",
              "      <td>1</td>\n",
              "      <td>123done</td>\n",
              "      <td>DEPRECATED - Migrated to https://github.com/mo...</td>\n",
              "      <td>https://github.com/mozilla/123done</td>\n",
              "    </tr>\n",
              "    <tr>\n",
              "      <th>1</th>\n",
              "      <td>2</td>\n",
              "      <td>2018-global-sprint-planning</td>\n",
              "      <td>None</td>\n",
              "      <td>https://github.com/mozilla/2018-global-sprint-...</td>\n",
              "    </tr>\n",
              "    <tr>\n",
              "      <th>2</th>\n",
              "      <td>3</td>\n",
              "      <td>able-registry-dev</td>\n",
              "      <td>Able experiment registry for non-production ex...</td>\n",
              "      <td>https://github.com/mozilla/able-registry-dev</td>\n",
              "    </tr>\n",
              "    <tr>\n",
              "      <th>3</th>\n",
              "      <td>4</td>\n",
              "      <td>about-home-jumping-fox-game</td>\n",
              "      <td>MOVED A little game about a fox that jumps, fo...</td>\n",
              "      <td>https://github.com/mozilla/about-home-jumping-...</td>\n",
              "    </tr>\n",
              "    <tr>\n",
              "      <th>4</th>\n",
              "      <td>5</td>\n",
              "      <td>about-home-persona-switcher</td>\n",
              "      <td>MOVED - about:home snippet that lets users pre...</td>\n",
              "      <td>https://github.com/mozilla/about-home-persona-...</td>\n",
              "    </tr>\n",
              "    <tr>\n",
              "      <th>5</th>\n",
              "      <td>6</td>\n",
              "      <td>about-home-piano-snippet</td>\n",
              "      <td>MOVED - HTML5 Piano Snippet for the Firefox ab...</td>\n",
              "      <td>https://github.com/mozilla/about-home-piano-sn...</td>\n",
              "    </tr>\n",
              "    <tr>\n",
              "      <th>6</th>\n",
              "      <td>7</td>\n",
              "      <td>ace</td>\n",
              "      <td>Ajax.org Code Editor</td>\n",
              "      <td>https://github.com/mozilla/ace</td>\n",
              "    </tr>\n",
              "    <tr>\n",
              "      <th>7</th>\n",
              "      <td>8</td>\n",
              "      <td>acidity</td>\n",
              "      <td>WIP: A checklist/test for friendly open source...</td>\n",
              "      <td>https://github.com/mozilla/acidity</td>\n",
              "    </tr>\n",
              "    <tr>\n",
              "      <th>8</th>\n",
              "      <td>9</td>\n",
              "      <td>action-automatic-releases</td>\n",
              "      <td>READONLY: Auto-generated mirror for https://gi...</td>\n",
              "      <td>https://github.com/mozilla/action-automatic-re...</td>\n",
              "    </tr>\n",
              "    <tr>\n",
              "      <th>9</th>\n",
              "      <td>10</td>\n",
              "      <td>action-input</td>\n",
              "      <td>A framework-agnostic input library that progre...</td>\n",
              "      <td>https://github.com/mozilla/action-input</td>\n",
              "    </tr>\n",
              "  </tbody>\n",
              "</table>\n",
              "</div>"
            ],
            "text/plain": [
              "  Project_Number  ...                                        Project URL\n",
              "0              1  ...                 https://github.com/mozilla/123done\n",
              "1              2  ...  https://github.com/mozilla/2018-global-sprint-...\n",
              "2              3  ...       https://github.com/mozilla/able-registry-dev\n",
              "3              4  ...  https://github.com/mozilla/about-home-jumping-...\n",
              "4              5  ...  https://github.com/mozilla/about-home-persona-...\n",
              "5              6  ...  https://github.com/mozilla/about-home-piano-sn...\n",
              "6              7  ...                     https://github.com/mozilla/ace\n",
              "7              8  ...                 https://github.com/mozilla/acidity\n",
              "8              9  ...  https://github.com/mozilla/action-automatic-re...\n",
              "9             10  ...            https://github.com/mozilla/action-input\n",
              "\n",
              "[10 rows x 4 columns]"
            ]
          },
          "metadata": {},
          "execution_count": 24
        }
      ]
    },
    {
      "cell_type": "code",
      "metadata": {
        "id": "YXXqpz80uJc_"
      },
      "source": [
        "save_pth = '/content/drive/MyDrive/Datasets/Tradewater/'\n",
        "file_name = save_pth + 'TradewaterQ14.csv'\n",
        "repo_info_df.to_csv (file_name, index = False, header=True)"
      ],
      "execution_count": 25,
      "outputs": []
    }
  ]
}